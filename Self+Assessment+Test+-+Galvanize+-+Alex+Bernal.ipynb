{
 "cells": [
  {
   "cell_type": "markdown",
   "metadata": {},
   "source": [
    "Challenge 1\n",
    "Write a function that looks at the number of times given letters appear in a document. The output should be\n",
    "in a dictionary.\n"
   ]
  },
  {
   "cell_type": "code",
   "execution_count": 6,
   "metadata": {
    "collapsed": false
   },
   "outputs": [
    {
     "name": "stdout",
     "output_type": "stream",
     "text": [
      "['R', 'o', 'a', 'd']\n"
     ]
    }
   ],
   "source": [
    "def no_of_times(filename):\n",
    "  dic = {}\n",
    "  input_file = open(filename, \"r\")\n",
    "  for line in input_file:\n",
    "    letters = list(line)\n",
    "    for letter in letters:\n",
    "      letter = letter.lower()\n",
    "    if not letter in dic:\n",
    "      dic[letter] = 1\n",
    "    else:\n",
    "      dic[letter] += 1\n",
    "  input_file.close()    \n",
    "  return dic\n",
    "  \n",
    "x = \"Road\"\n",
    "\n",
    "y = list(x)\n",
    "print(y)"
   ]
  },
  {
   "cell_type": "code",
   "execution_count": 2,
   "metadata": {
    "collapsed": true
   },
   "outputs": [],
   "source": [
    "# Given a list of words, return a dictionary of\n",
    "# word-frequency pairs.\n",
    "\n",
    "def wordListToFreqDict(wordlist):\n",
    "    wordfreq = [wordlist.count(p) for p in wordlist]\n",
    "    return dict(zip(wordlist,wordfreq))"
   ]
  },
  {
   "cell_type": "markdown",
   "metadata": {},
   "source": [
    "Challenge 2\n",
    "Write a function that removes one occurrence of a given item from a list. Do not use methods .pop() or\n",
    ".remove()! If the item is not present in the list, output should be ‘The item is not in the list’."
   ]
  },
  {
   "cell_type": "code",
   "execution_count": 9,
   "metadata": {
    "collapsed": false
   },
   "outputs": [
    {
     "data": {
      "text/plain": [
       "[1, 2, 3, 4, 5, 6]"
      ]
     },
     "execution_count": 9,
     "metadata": {},
     "output_type": "execute_result"
    }
   ],
   "source": [
    "def remove_duplicates(numbers):\n",
    "    newlist = []\n",
    "    for number in numbers:\n",
    "       if number not in newlist:\n",
    "           newlist.append(number)\n",
    "    return newlist\n",
    "remove_duplicates([1,2,3,4,5,5,5,6,3,2])"
   ]
  },
  {
   "cell_type": "markdown",
   "metadata": {},
   "source": [
    "Challenge 3\n",
    "The simple substitution cipher \n",
    "• Plain alphabet : abcdefghijklmnopqrstuvwxyz\n",
    "• cipher alphabet: phqgiumeaylnofdxjkrcvstzwb"
   ]
  },
  {
   "cell_type": "code",
   "execution_count": 10,
   "metadata": {
    "collapsed": false
   },
   "outputs": [
    {
     "name": "stdout",
     "output_type": "stream",
     "text": [
      "Hey, this is really fun!\n",
      "eiw, cear ar kipnnw uvf!\n",
      "hey, this is really fun!\n"
     ]
    }
   ],
   "source": [
    "import random\n",
    "\n",
    "alphabet = 'abcdefghijklmnopqrstuvwxyz.,! '\n",
    "key = 'phqgiumeaylnofdxjkrcvstzwb'\n",
    "plaintext = \"Hey, this is really fun!\"\n",
    "\n",
    "\n",
    "def makeKey(alphabet):\n",
    "   alphabet = list(alphabet)\n",
    "   random.shuffle(alphabet)\n",
    "   return ''.join(alphabet)\n",
    "\n",
    "def encrypt(plaintext, key, alphabet):\n",
    "    keyMap = dict(zip(alphabet, key))\n",
    "    return ''.join(keyMap.get(c.lower(), c) for c in plaintext)\n",
    "\n",
    "def decrypt(cipher, key, alphabet):\n",
    "    keyMap = dict(zip(key, alphabet))\n",
    "    return ''.join(keyMap.get(c.lower(), c) for c in cipher)\n",
    "\n",
    "cipher = encrypt(plaintext, key, alphabet)\n",
    "\n",
    "print(plaintext)\n",
    "print(cipher)\n",
    "print(decrypt(cipher, key, alphabet))"
   ]
  },
  {
   "cell_type": "markdown",
   "metadata": {},
   "source": [
    "Challenge 4\n",
    "Implement a function that counts the number of isograms in a list of strings."
   ]
  },
  {
   "cell_type": "code",
   "execution_count": 8,
   "metadata": {
    "collapsed": false
   },
   "outputs": [
    {
     "name": "stdout",
     "output_type": "stream",
     "text": [
      "True\n",
      "4\n"
     ]
    }
   ],
   "source": [
    "def is_isogram(string):\n",
    "    string = string.lower()\n",
    "    for char in string:\n",
    "      if string.count(char) > 1:\n",
    "        return False\n",
    "      elif string == \"\" or string == \" \":\n",
    "        return True\n",
    "    return True\n",
    "print(is_isogram(\" \"))        \n",
    "      \n",
    "def no_of_isograms(list_of_strings):\n",
    "  result = 0\n",
    "  for word in list_of_strings:\n",
    "    if is_isogram(word) == True:\n",
    "      result += 1\n",
    "  return result\n",
    "  \n",
    "print(no_of_isograms(['conduct', 'letter', 'contract', 'hours', 'interview', 'burak', \"\", \" \"]))"
   ]
  },
  {
   "cell_type": "markdown",
   "metadata": {},
   "source": [
    "Challenge 5\n",
    "Write a function that returns a list of matching items. Items are defined by a tuple with a letter and a\n",
    "number and we consider item 1 to match item 2 if:\n",
    "1. Both their letters are vowels (aeiou), or both are consonnants and,\n",
    "2. The sum of their numbers is a multiple of 3\n",
    "(1,2) contains the same information as (2,1), the output list should only contain one of them."
   ]
  },
  {
   "cell_type": "code",
   "execution_count": 11,
   "metadata": {
    "collapsed": false
   },
   "outputs": [
    {
     "ename": "IndentationError",
     "evalue": "unindent does not match any outer indentation level (<ipython-input-11-ac93923fea7c>, line 9)",
     "output_type": "error",
     "traceback": [
      "\u001b[0;36m  File \u001b[0;32m\"<ipython-input-11-ac93923fea7c>\"\u001b[0;36m, line \u001b[0;32m9\u001b[0m\n\u001b[0;31m    return List3\u001b[0m\n\u001b[0m                ^\u001b[0m\n\u001b[0;31mIndentationError\u001b[0m\u001b[0;31m:\u001b[0m unindent does not match any outer indentation level\n"
     ]
    }
   ],
   "source": [
    "def matching_pairs(data_list):\n",
    "    List3 = []\n",
    "    for i in range(len(List1)):\n",
    "        for j in range(len(List2)):\n",
    "            if List1[i] == List2[j]:\n",
    "                List3.append(1)\n",
    "            else:\n",
    "                List3.append(0)\n",
    "   return List3"
   ]
  },
  {
   "cell_type": "code",
   "execution_count": null,
   "metadata": {
    "collapsed": true
   },
   "outputs": [],
   "source": []
  }
 ],
 "metadata": {
  "anaconda-cloud": {},
  "kernelspec": {
   "display_name": "Python [conda root]",
   "language": "python",
   "name": "conda-root-py"
  },
  "language_info": {
   "codemirror_mode": {
    "name": "ipython",
    "version": 3
   },
   "file_extension": ".py",
   "mimetype": "text/x-python",
   "name": "python",
   "nbconvert_exporter": "python",
   "pygments_lexer": "ipython3",
   "version": "3.5.2"
  }
 },
 "nbformat": 4,
 "nbformat_minor": 2
}
