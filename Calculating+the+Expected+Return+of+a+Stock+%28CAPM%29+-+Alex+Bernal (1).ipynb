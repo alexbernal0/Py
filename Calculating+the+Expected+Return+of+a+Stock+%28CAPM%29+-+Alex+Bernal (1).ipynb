{
 "cells": [
  {
   "cell_type": "markdown",
   "metadata": {
    "deletable": true,
    "editable": true
   },
   "source": [
    "## Calculating the Expected Return of a Stock (CAPM)"
   ]
  },
  {
   "cell_type": "markdown",
   "metadata": {
    "deletable": true,
    "editable": true
   },
   "source": [
    "*Suggested Answers follow (usually there are multiple ways to solve a problem in Python).*"
   ]
  },
  {
   "cell_type": "markdown",
   "metadata": {
    "deletable": true,
    "editable": true
   },
   "source": [
    "Obtain data for Microsoft and S&P 500 for the period 1st of January 2012 – 31st of December 2016 from Yahoo Finance. \n",
    "Let S&P 500 act as the market. \n",
    "Calculate the beta of Microsoft.\n"
   ]
  },
  {
   "cell_type": "code",
   "execution_count": 5,
   "metadata": {
    "collapsed": false,
    "deletable": true,
    "editable": true
   },
   "outputs": [],
   "source": [
    "import numpy as np\n",
    "import pandas as pd\n",
    "import pandas_datareader.data as wb\n",
    "from pandas_datareader import data as wb\n",
    "\n",
    "tickers = ['ORCL', '^GSPC']\n",
    "data = pd.DataFrame()\n",
    "for t in tickers:\n",
    "    data[t] = wb.DataReader(t, data_source='yahoo', start='2015-3-25', end='2015-6-25')['Adj Close']  \n",
    "    \n",
    "sec_returns = np.log( data / data.shift(1) )\n",
    "cov = sec_returns.cov() * 250\n",
    "cov_with_market = cov.iloc[0,1]\n",
    "market_var = sec_returns['^GSPC'].var() * 250\n",
    "\n",
    "ORCL_beta = cov_with_market / market_var"
   ]
  },
  {
   "cell_type": "markdown",
   "metadata": {
    "deletable": true,
    "editable": true
   },
   "source": [
    "Assume a risk-free rate of 2.5% and a risk premium of 5%. <br />\n",
    "Estimate the expected return of Microsoft."
   ]
  },
  {
   "cell_type": "markdown",
   "metadata": {
    "deletable": true,
    "editable": true
   },
   "source": [
    "**Calculate the expected return of P&G (CAPM):**\n",
    "### $$\n",
    "\\overline{r_{pg}} = r_f + \\beta_{pg}(\\overline{r_{m}} - r_f) \n",
    "$$"
   ]
  },
  {
   "cell_type": "code",
   "execution_count": 49,
   "metadata": {
    "collapsed": false,
    "deletable": true,
    "editable": true
   },
   "outputs": [
    {
     "data": {
      "text/plain": [
       "0.080588766370463652"
      ]
     },
     "execution_count": 49,
     "metadata": {},
     "output_type": "execute_result"
    }
   ],
   "source": [
    "ORCL_er = 0.025 + ORCL_beta * 0.05\n",
    "ORCL_er"
   ]
  },
  {
   "cell_type": "code",
   "execution_count": 50,
   "metadata": {
    "collapsed": false
   },
   "outputs": [],
   "source": [
    "%matplotlib inline\n",
    "import numpy as np\n",
    "from pylab import *\n",
    "import pandas as pd\n",
    "import pandas_datareader.data as web\n",
    "import datetime\n",
    "import sys\n",
    "import numpy as np\n",
    "import scipy as sp\n",
    "import pylab\n",
    "from scipy.optimize import leastsq"
   ]
  },
  {
   "cell_type": "code",
   "execution_count": 54,
   "metadata": {
    "collapsed": false
   },
   "outputs": [],
   "source": [
    "import pandas as pd\n",
    "import pandas_datareader.data as web\n",
    "import datetime\n",
    " \n",
    "# We will look at stock prices over the past year, starting at January 1, 2016\n",
    "start = datetime.datetime(2015,4,1)\n",
    "end = datetime.datetime(2015,6,1)\n",
    " \n",
    "# Let's get Apple stock data; Apple's ticker symbol is AAPL\n",
    "# First argument is the series we want, second is the source (\"yahoo\" for Yahoo! Finance), third is the start date, fourth is the end date\n",
    "orcl = web.DataReader(\"ORCL\", \"yahoo\", start, end)\n",
    "spy = web.DataReader(\"SPY\", \"yahoo\", start, end)"
   ]
  },
  {
   "cell_type": "code",
   "execution_count": 55,
   "metadata": {
    "collapsed": false
   },
   "outputs": [],
   "source": [
    "from sklearn.linear_model import LinearRegression\n",
    "# we're using yahoo finance data, pandas datareader will import the data we need\n",
    "\n",
    "from pandas_datareader.data import DataReader"
   ]
  },
  {
   "cell_type": "code",
   "execution_count": 58,
   "metadata": {
    "collapsed": false
   },
   "outputs": [],
   "source": [
    "symbols = [\"ORCL\", \"SPY\"]\n",
    "# df is the main dataframe that'll hold the Adjusted closing prices\n",
    "df = pd.DataFrame()"
   ]
  },
  {
   "cell_type": "code",
   "execution_count": 60,
   "metadata": {
    "collapsed": false
   },
   "outputs": [],
   "source": [
    "for symbol in symbols:\n",
    "    dftemp = DataReader(symbol,\"yahoo\",start)\n",
    "    \n",
    "    # we only need the adjusted close price.\n",
    "    df[symbol] = dftemp[\"Adj Close\"]\n"
   ]
  },
  {
   "cell_type": "code",
   "execution_count": 62,
   "metadata": {
    "collapsed": false
   },
   "outputs": [],
   "source": [
    "npMatrix = np.matrix(df)\n",
    "X, Y = npMatrix[:,0], npMatrix[:,1]\n",
    "mdl = LinearRegression().fit(X,Y) # either this or the next line\n",
    "#mdl = LinearRegression().fit(filtered_data[['x']],filtered_data.y)\n",
    "m = mdl.coef_[0]\n",
    "b = mdl.intercept_\n"
   ]
  },
  {
   "cell_type": "code",
   "execution_count": 64,
   "metadata": {
    "collapsed": false
   },
   "outputs": [
    {
     "data": {
      "image/png": "[encoded data removed]",
      "text/plain": [
       "<matplotlib.figure.Figure at 0x108cf6d8>"
      ]
     },
     "metadata": {},
     "output_type": "display_data"
    }
   ],
   "source": [
    "plt.scatter(X,Y, color='blue')\n",
    "plt.plot([0,100],[b,m*100+b],'r')\n",
    "plt.title('Linear Regression ORCL / SPY', fontsize = 20)\n",
    "plt.xlabel('ORCL', fontsize = 15)\n",
    "plt.ylabel('SPY', fontsize = 15)\n",
    "plt.show()"
   ]
  },
  {
   "cell_type": "code",
   "execution_count": 65,
   "metadata": {
    "collapsed": false
   },
   "outputs": [
    {
     "name": "stdout",
     "output_type": "stream",
     "text": [
      "                            OLS Regression Results                            \n",
      "==============================================================================\n",
      "Dep. Variable:                      y   R-squared:                       0.997\n",
      "Model:                            OLS   Adj. R-squared:                  0.997\n",
      "Method:                 Least Squares   F-statistic:                 1.983e+05\n",
      "Date:                Sat, 22 Apr 2017   Prob (F-statistic):               0.00\n",
      "Time:                        18:04:39   Log-Likelihood:                -1961.7\n",
      "No. Observations:                 519   AIC:                             3925.\n",
      "Df Residuals:                     518   BIC:                             3930.\n",
      "Df Model:                           1                                         \n",
      "Covariance Type:            nonrobust                                         \n",
      "==============================================================================\n",
      "                 coef    std err          t      P>|t|      [0.025      0.975]\n",
      "------------------------------------------------------------------------------\n",
      "x1             5.2739      0.012    445.285      0.000       5.251       5.297\n",
      "==============================================================================\n",
      "Omnibus:                       12.165   Durbin-Watson:                   0.030\n",
      "Prob(Omnibus):                  0.002   Jarque-Bera (JB):               12.349\n",
      "Skew:                          -0.366   Prob(JB):                      0.00208\n",
      "Kurtosis:                       3.186   Cond. No.                         1.00\n",
      "==============================================================================\n",
      "\n",
      "Warnings:\n",
      "[1] Standard Errors assume that the covariance matrix of the errors is correctly specified.\n"
     ]
    }
   ],
   "source": [
    "import statsmodels.api as sm\n",
    "res = sm.OLS(Y, X).fit()\n",
    "print(res.summary())"
   ]
  },
  {
   "cell_type": "code",
   "execution_count": null,
   "metadata": {
    "collapsed": true
   },
   "outputs": [],
   "source": []
  }
 ],
 "metadata": {
  "anaconda-cloud": {},
  "kernelspec": {
   "display_name": "Python 2",
   "language": "python",
   "name": "python2"
  },
  "language_info": {
   "codemirror_mode": {
    "name": "ipython",
    "version": 2
   },
   "file_extension": ".py",
   "mimetype": "text/x-python",
   "name": "python",
   "nbconvert_exporter": "python",
   "pygments_lexer": "ipython2",
   "version": "2.7.11"
  }
 },
 "nbformat": 4,
 "nbformat_minor": 1
}
